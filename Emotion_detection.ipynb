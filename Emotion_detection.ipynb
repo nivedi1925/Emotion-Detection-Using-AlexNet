{
 "cells": [
  {
   "cell_type": "markdown",
   "metadata": {},
   "source": [
    "# Emotion Detection using AlexNet"
   ]
  },
  {
   "cell_type": "markdown",
   "metadata": {},
   "source": [
    "### Download dataset from kaggle"
   ]
  },
  {
   "cell_type": "code",
   "execution_count": 1,
   "metadata": {
    "colab": {
     "base_uri": "https://localhost:8080/"
    },
    "id": "5j3oC4CHmCtw",
    "outputId": "6c3b9a25-677b-448c-b385-2bdbe204c2f9"
   },
   "outputs": [],
   "source": [
    "# import kagglehub\n",
    "\n",
    "# # Download latest version\n",
    "# path = kagglehub.dataset_download(\"ananthu017/emotion-detection-fer\")\n",
    "\n",
    "# print(\"Path to dataset files:\", path)"
   ]
  },
  {
   "cell_type": "markdown",
   "metadata": {},
   "source": [
    "### Importing the libraries"
   ]
  },
  {
   "cell_type": "code",
   "execution_count": 2,
   "metadata": {
    "id": "Bx7L0B5pmf7b"
   },
   "outputs": [
    {
     "name": "stderr",
     "output_type": "stream",
     "text": [
      "2025-07-04 22:26:00.592523: I tensorflow/core/platform/cpu_feature_guard.cc:182] This TensorFlow binary is optimized to use available CPU instructions in performance-critical operations.\n",
      "To enable the following instructions: SSE4.1 SSE4.2 AVX AVX2 FMA, in other operations, rebuild TensorFlow with the appropriate compiler flags.\n"
     ]
    }
   ],
   "source": [
    "import tensorflow as tf\n",
    "import pandas as pd\n",
    "import numpy as np\n",
    "import matplotlib.pyplot as plt\n",
    "import seaborn as sns\n",
    "import tensorflow.keras.layers as tfl"
   ]
  },
  {
   "cell_type": "markdown",
   "metadata": {},
   "source": [
    "### Read the images from directorty and create dataset"
   ]
  },
  {
   "cell_type": "code",
   "execution_count": 3,
   "metadata": {
    "colab": {
     "base_uri": "https://localhost:8080/"
    },
    "id": "7CLp_TqsmFsY",
    "outputId": "87478c24-bd3d-48ec-f609-7c42ac12b935"
   },
   "outputs": [
    {
     "name": "stdout",
     "output_type": "stream",
     "text": [
      "Found 28709 files belonging to 7 classes.\n"
     ]
    },
    {
     "name": "stderr",
     "output_type": "stream",
     "text": [
      "2025-07-04 22:26:23.989966: I tensorflow/core/common_runtime/process_util.cc:146] Creating new thread pool with default inter op setting: 2. Tune using inter_op_parallelism_threads for best performance.\n"
     ]
    },
    {
     "name": "stdout",
     "output_type": "stream",
     "text": [
      "Found 7178 files belonging to 7 classes.\n"
     ]
    }
   ],
   "source": [
    "\n",
    "\n",
    "train_ds = tf.keras.preprocessing.image_dataset_from_directory(\n",
    "    '/home/developer/Coding/Kaggle/Emotion_detection/dataset/train',\n",
    "    shuffle=True,\n",
    "    image_size=(128,128),\n",
    "    batch_size=128\n",
    ")\n",
    "\n",
    "test_ds = tf.keras.preprocessing.image_dataset_from_directory(\n",
    "    '/home/developer/Coding/Kaggle/Emotion_detection/dataset/test',\n",
    "    shuffle=True,\n",
    "    image_size=(128,128),\n",
    "    batch_size=128\n",
    ")\n",
    "\n"
   ]
  },
  {
   "cell_type": "markdown",
   "metadata": {},
   "source": [
    "### Normalize the image data by dividing each entry by 255"
   ]
  },
  {
   "cell_type": "code",
   "execution_count": 5,
   "metadata": {
    "id": "f4ArDL2AnNo8"
   },
   "outputs": [],
   "source": [
    "\n",
    "\n",
    "def normalize_image(image,label):\n",
    "    image = tf.cast(image/255. ,tf.float32)\n",
    "    return image,label\n",
    "\n",
    "train_ds = train_ds.map(normalize_image)\n",
    "test_ds = test_ds.map(normalize_image)\n",
    "\n"
   ]
  },
  {
   "cell_type": "code",
   "execution_count": 6,
   "metadata": {
    "colab": {
     "base_uri": "https://localhost:8080/"
    },
    "id": "7fc7eb5a",
    "outputId": "2dae4b5b-2e9f-44b6-fecd-33aad1f9cb78"
   },
   "outputs": [
    {
     "name": "stderr",
     "output_type": "stream",
     "text": [
      "2025-07-04 22:26:25.679571: I tensorflow/core/common_runtime/executor.cc:1197] [/device:CPU:0] (DEBUG INFO) Executor start aborting (this does not indicate an error and you can ignore this message): INVALID_ARGUMENT: You must feed a value for placeholder tensor 'Placeholder/_4' with dtype int32 and shape [28709]\n",
      "\t [[{{node Placeholder/_4}}]]\n",
      "2025-07-04 22:26:25.681068: I tensorflow/core/common_runtime/executor.cc:1197] [/device:CPU:0] (DEBUG INFO) Executor start aborting (this does not indicate an error and you can ignore this message): INVALID_ARGUMENT: You must feed a value for placeholder tensor 'Placeholder/_4' with dtype int32 and shape [28709]\n",
      "\t [[{{node Placeholder/_4}}]]\n"
     ]
    },
    {
     "name": "stdout",
     "output_type": "stream",
     "text": [
      "(128, 128, 128, 3) (128,)\n",
      "(128, 128, 128, 3) (128,)\n",
      "(128, 128, 128, 3) (128,)\n"
     ]
    }
   ],
   "source": [
    "for images, labels in train_ds.take(3):\n",
    "  print(images.shape, labels.shape)"
   ]
  },
  {
   "cell_type": "markdown",
   "metadata": {},
   "source": [
    "\n",
    "### Creating the AlexNet model"
   ]
  },
  {
   "cell_type": "code",
   "execution_count": 7,
   "metadata": {
    "id": "4zSz7Kx2xJLN"
   },
   "outputs": [],
   "source": [
    "def convolutional_model(input_shape):\n",
    "    \"\"\"\n",
    "    Implements the forward propagation for the model:\n",
    "    CONV2D -> RELU -> MAXPOOL -> CONV2D -> RELU -> MAXPOOL -> FLATTEN -> DENSE\n",
    "\n",
    "    Note that for simplicity and grading purposes, you'll hard-code some values\n",
    "    such as the stride and kernel (filter) sizes.\n",
    "    Normally, functions should take these values as function parameters.\n",
    "\n",
    "    Arguments:\n",
    "    input_img -- input dataset, of shape (input_shape)\n",
    "\n",
    "    Returns:\n",
    "    model -- TF Keras model (object containing the information for the entire training process)\n",
    "    -----------------------------CNN-----------------------------------------------------\n",
    "    input_img = tf.keras.Input(shape=input_shape)\n",
    "\n",
    "    Z1 = tfl.Conv2D(filters=8, kernel_size = (4,4), strides = 1,padding = 'same')(input_img)\n",
    "    A1 = tfl.ReLU()(Z1)\n",
    "    P1 = tfl.MaxPool2D(pool_size=(8, 8),strides=8,padding='same')(A1)\n",
    "    Z2 = tfl.Conv2D(filters=16, kernel_size = (2,2),strides= 1, padding=\"same\")(P1)\n",
    "    A2 = tfl.ReLU()(Z2)\n",
    "    P2 = tfl.MaxPool2D(pool_size=(4,4),strides=4,padding='same')(A2)\n",
    "    F = tfl.Flatten()(P2)\n",
    "    outputs = tf.keras.layers.Dense(units=7, activation='softmax')(F)\n",
    "    model = tf.keras.Model(inputs=input_img, outputs=outputs)\n",
    "\n",
    "----------------------------------------------------------------------------------------\n",
    "\"\"\"\n",
    "## AlexNet\n",
    "    model = tf.keras.models.Sequential([\n",
    "    # 1st conv\n",
    "    tf.keras.layers.Conv2D(96, (11,11),strides=(4,4), activation='relu', input_shape=input_shape),\n",
    "    tf.keras.layers.BatchNormalization(),\n",
    "    tf.keras.layers.MaxPooling2D(2, strides=(2,2)),\n",
    "    # 2nd conv\n",
    "    tf.keras.layers.Conv2D(256, (11,11),strides=(1,1), activation='relu',padding=\"same\"),\n",
    "    tf.keras.layers.BatchNormalization(),\n",
    "     # 3rd conv\n",
    "    tf.keras.layers.Conv2D(384, (3,3),strides=(1,1), activation='relu',padding=\"same\"),\n",
    "    tf.keras.layers.BatchNormalization(),\n",
    "    # 4th conv\n",
    "    tf.keras.layers.Conv2D(384, (3,3),strides=(1,1), activation='relu',padding=\"same\"),\n",
    "    tf.keras.layers.BatchNormalization(),\n",
    "    # 5th Conv\n",
    "    tf.keras.layers.Conv2D(256, (3, 3), strides=(1, 1), activation='relu',padding=\"same\"),\n",
    "    tf.keras.layers.BatchNormalization(),\n",
    "    tf.keras.layers.MaxPooling2D(2, strides=(2, 2)),\n",
    "    # To Flatten layer\n",
    "    tf.keras.layers.Flatten(),\n",
    "    # To FC layer 1\n",
    "    tf.keras.layers.Dense(4096, activation='relu'),\n",
    "    # add dropout 0.5 ==> tf.keras.layers.Dropout(0.5),\n",
    "    #To FC layer 2\n",
    "    tf.keras.layers.Dense(4096, activation='relu'),\n",
    "    # add dropout 0.5 ==> tf.keras.layers.Dropout(0.5),\n",
    "    tf.keras.layers.Dense(units = 7, activation='sigmoid')])\n",
    "    return model"
   ]
  },
  {
   "cell_type": "code",
   "execution_count": 8,
   "metadata": {
    "colab": {
     "base_uri": "https://localhost:8080/",
     "height": 452
    },
    "id": "pXmBCiu1xV7G",
    "outputId": "45c3fbc1-5129-4d8c-8587-4190a5c284d2"
   },
   "outputs": [
    {
     "name": "stdout",
     "output_type": "stream",
     "text": [
      "Model: \"sequential\"\n",
      "_________________________________________________________________\n",
      " Layer (type)                Output Shape              Param #   \n",
      "=================================================================\n",
      " conv2d (Conv2D)             (None, 30, 30, 96)        34944     \n",
      "                                                                 \n",
      " batch_normalization (BatchN  (None, 30, 30, 96)       384       \n",
      " ormalization)                                                   \n",
      "                                                                 \n",
      " max_pooling2d (MaxPooling2D  (None, 15, 15, 96)       0         \n",
      " )                                                               \n",
      "                                                                 \n",
      " conv2d_1 (Conv2D)           (None, 15, 15, 256)       2973952   \n",
      "                                                                 \n",
      " batch_normalization_1 (Batc  (None, 15, 15, 256)      1024      \n",
      " hNormalization)                                                 \n",
      "                                                                 \n",
      " conv2d_2 (Conv2D)           (None, 15, 15, 384)       885120    \n",
      "                                                                 \n",
      " batch_normalization_2 (Batc  (None, 15, 15, 384)      1536      \n",
      " hNormalization)                                                 \n",
      "                                                                 \n",
      " conv2d_3 (Conv2D)           (None, 15, 15, 384)       1327488   \n",
      "                                                                 \n",
      " batch_normalization_3 (Batc  (None, 15, 15, 384)      1536      \n",
      " hNormalization)                                                 \n",
      "                                                                 \n",
      " conv2d_4 (Conv2D)           (None, 15, 15, 256)       884992    \n",
      "                                                                 \n",
      " batch_normalization_4 (Batc  (None, 15, 15, 256)      1024      \n",
      " hNormalization)                                                 \n",
      "                                                                 \n",
      " max_pooling2d_1 (MaxPooling  (None, 7, 7, 256)        0         \n",
      " 2D)                                                             \n",
      "                                                                 \n",
      " flatten (Flatten)           (None, 12544)             0         \n",
      "                                                                 \n",
      " dense (Dense)               (None, 4096)              51384320  \n",
      "                                                                 \n",
      " dense_1 (Dense)             (None, 4096)              16781312  \n",
      "                                                                 \n",
      " dense_2 (Dense)             (None, 7)                 28679     \n",
      "                                                                 \n",
      "=================================================================\n",
      "Total params: 74,306,311\n",
      "Trainable params: 74,303,559\n",
      "Non-trainable params: 2,752\n",
      "_________________________________________________________________\n"
     ]
    }
   ],
   "source": [
    "input_shape = (128,128,3)\n",
    "conv_model = convolutional_model(input_shape)\n",
    "conv_model.compile(optimizer='adam',\n",
    "                  loss='sparse_categorical_crossentropy',\n",
    "                  metrics=['accuracy'])\n",
    "conv_model.summary()"
   ]
  },
  {
   "cell_type": "code",
   "execution_count": 9,
   "metadata": {
    "colab": {
     "base_uri": "https://localhost:8080/"
    },
    "id": "nmZX8V3TxivF",
    "outputId": "6265efbc-e33c-422c-9eeb-1923c161333f"
   },
   "outputs": [
    {
     "name": "stdout",
     "output_type": "stream",
     "text": [
      "Epoch 1/100\n"
     ]
    },
    {
     "name": "stderr",
     "output_type": "stream",
     "text": [
      "2025-07-04 22:26:38.279798: I tensorflow/core/common_runtime/executor.cc:1197] [/device:CPU:0] (DEBUG INFO) Executor start aborting (this does not indicate an error and you can ignore this message): INVALID_ARGUMENT: You must feed a value for placeholder tensor 'Placeholder/_4' with dtype int32 and shape [28709]\n",
      "\t [[{{node Placeholder/_4}}]]\n",
      "2025-07-04 22:26:38.280175: I tensorflow/core/common_runtime/executor.cc:1197] [/device:CPU:0] (DEBUG INFO) Executor start aborting (this does not indicate an error and you can ignore this message): INVALID_ARGUMENT: You must feed a value for placeholder tensor 'Placeholder/_0' with dtype string and shape [28709]\n",
      "\t [[{{node Placeholder/_0}}]]\n"
     ]
    },
    {
     "name": "stdout",
     "output_type": "stream",
     "text": [
      "180/180 [==============================] - 1717s 10s/step - loss: 3.3413 - accuracy: 0.2480\n",
      "Epoch 2/100\n"
     ]
    },
    {
     "name": "stderr",
     "output_type": "stream",
     "text": [
      "2025-07-04 22:55:15.350787: I tensorflow/core/common_runtime/executor.cc:1197] [/device:CPU:0] (DEBUG INFO) Executor start aborting (this does not indicate an error and you can ignore this message): INVALID_ARGUMENT: You must feed a value for placeholder tensor 'Placeholder/_4' with dtype int32 and shape [28709]\n",
      "\t [[{{node Placeholder/_4}}]]\n",
      "2025-07-04 22:55:15.353031: I tensorflow/core/common_runtime/executor.cc:1197] [/device:CPU:0] (DEBUG INFO) Executor start aborting (this does not indicate an error and you can ignore this message): INVALID_ARGUMENT: You must feed a value for placeholder tensor 'Placeholder/_4' with dtype int32 and shape [28709]\n",
      "\t [[{{node Placeholder/_4}}]]\n"
     ]
    },
    {
     "name": "stdout",
     "output_type": "stream",
     "text": [
      "180/180 [==============================] - 1743s 10s/step - loss: 1.7657 - accuracy: 0.2742\n",
      "Epoch 3/100\n",
      "180/180 [==============================] - 1840s 10s/step - loss: 1.7259 - accuracy: 0.3043\n",
      "Epoch 4/100\n",
      "180/180 [==============================] - 1923s 11s/step - loss: 1.7005 - accuracy: 0.3192\n",
      "Epoch 5/100\n",
      "180/180 [==============================] - 1941s 11s/step - loss: 1.6599 - accuracy: 0.3440\n",
      "Epoch 6/100\n",
      "180/180 [==============================] - 1960s 11s/step - loss: 1.5768 - accuracy: 0.3856\n",
      "Epoch 7/100\n",
      "180/180 [==============================] - 1962s 11s/step - loss: 1.5219 - accuracy: 0.4056\n",
      "Epoch 8/100\n",
      "180/180 [==============================] - 1966s 11s/step - loss: 1.4611 - accuracy: 0.4352\n",
      "Epoch 9/100\n",
      "180/180 [==============================] - 1961s 11s/step - loss: 1.4033 - accuracy: 0.4529\n",
      "Epoch 10/100\n",
      "180/180 [==============================] - 1975s 11s/step - loss: 1.3477 - accuracy: 0.4780\n",
      "Epoch 11/100\n",
      "180/180 [==============================] - 1988s 11s/step - loss: 1.2884 - accuracy: 0.5053\n",
      "Epoch 12/100\n",
      "180/180 [==============================] - 1951s 11s/step - loss: 1.2172 - accuracy: 0.5335\n",
      "Epoch 13/100\n",
      "180/180 [==============================] - 1970s 11s/step - loss: 1.1449 - accuracy: 0.5648\n",
      "Epoch 14/100\n",
      "180/180 [==============================] - 1753s 10s/step - loss: 1.0708 - accuracy: 0.5954\n",
      "Epoch 15/100\n",
      "180/180 [==============================] - 1688s 9s/step - loss: 0.9956 - accuracy: 0.6250\n",
      "Epoch 16/100\n",
      "180/180 [==============================] - 1669s 9s/step - loss: 0.9115 - accuracy: 0.6550\n",
      "Epoch 17/100\n",
      "180/180 [==============================] - 1839s 10s/step - loss: 0.8362 - accuracy: 0.6889\n",
      "Epoch 18/100\n",
      "180/180 [==============================] - 2038s 11s/step - loss: 0.7314 - accuracy: 0.7257\n",
      "Epoch 19/100\n",
      "180/180 [==============================] - 2043s 11s/step - loss: 0.6507 - accuracy: 0.7605\n",
      "Epoch 20/100\n",
      "180/180 [==============================] - 2053s 11s/step - loss: 0.5921 - accuracy: 0.7854\n",
      "Epoch 21/100\n",
      "180/180 [==============================] - 2045s 11s/step - loss: 0.5280 - accuracy: 0.8098\n",
      "Epoch 22/100\n",
      "180/180 [==============================] - 2030s 11s/step - loss: 0.4698 - accuracy: 0.8290\n",
      "Epoch 23/100\n",
      "180/180 [==============================] - 1977s 11s/step - loss: 0.4270 - accuracy: 0.8490\n",
      "Epoch 24/100\n",
      "180/180 [==============================] - 1903s 11s/step - loss: 0.3759 - accuracy: 0.8698\n",
      "Epoch 25/100\n",
      "180/180 [==============================] - 1838s 10s/step - loss: 0.3446 - accuracy: 0.8799\n",
      "Epoch 26/100\n",
      "180/180 [==============================] - 2038s 11s/step - loss: 0.3139 - accuracy: 0.8924\n",
      "Epoch 27/100\n",
      "180/180 [==============================] - 1815s 10s/step - loss: 0.2736 - accuracy: 0.9072\n",
      "Epoch 28/100\n",
      "180/180 [==============================] - 1889s 11s/step - loss: 0.2419 - accuracy: 0.9197\n",
      "Epoch 29/100\n",
      "180/180 [==============================] - 1806s 10s/step - loss: 0.2263 - accuracy: 0.9231\n",
      "Epoch 30/100\n",
      "180/180 [==============================] - 1924s 11s/step - loss: 0.2203 - accuracy: 0.9308\n",
      "Epoch 31/100\n",
      "180/180 [==============================] - 2052s 11s/step - loss: 0.1947 - accuracy: 0.9344\n",
      "Epoch 32/100\n",
      "180/180 [==============================] - 2083s 12s/step - loss: 0.1937 - accuracy: 0.9380\n",
      "Epoch 33/100\n",
      "180/180 [==============================] - 2032s 11s/step - loss: 0.1788 - accuracy: 0.9442\n",
      "Epoch 34/100\n",
      "180/180 [==============================] - 1917s 11s/step - loss: 0.1811 - accuracy: 0.9414\n",
      "Epoch 35/100\n",
      "180/180 [==============================] - 2049s 11s/step - loss: 0.1807 - accuracy: 0.9440\n",
      "Epoch 36/100\n",
      "180/180 [==============================] - 2008s 11s/step - loss: 0.2019 - accuracy: 0.9420\n",
      "Epoch 37/100\n",
      "180/180 [==============================] - 1912s 11s/step - loss: 0.1485 - accuracy: 0.9527\n",
      "Epoch 38/100\n",
      "180/180 [==============================] - 2019s 11s/step - loss: 0.1471 - accuracy: 0.9570\n",
      "Epoch 39/100\n",
      "180/180 [==============================] - 2034s 11s/step - loss: 0.1230 - accuracy: 0.9619\n",
      "Epoch 40/100\n",
      "180/180 [==============================] - 2013s 11s/step - loss: 0.1252 - accuracy: 0.9603\n",
      "Epoch 41/100\n",
      "180/180 [==============================] - 1953s 11s/step - loss: 0.1337 - accuracy: 0.9580\n",
      "Epoch 42/100\n",
      "180/180 [==============================] - 1943s 11s/step - loss: 0.1266 - accuracy: 0.9621\n",
      "Epoch 43/100\n",
      "180/180 [==============================] - 1939s 11s/step - loss: 0.0932 - accuracy: 0.9715\n",
      "Epoch 44/100\n",
      "180/180 [==============================] - 1934s 11s/step - loss: 0.0932 - accuracy: 0.9710\n",
      "Epoch 45/100\n",
      "180/180 [==============================] - 1939s 11s/step - loss: 0.1134 - accuracy: 0.9663\n",
      "Epoch 46/100\n",
      "180/180 [==============================] - 1941s 11s/step - loss: 0.1114 - accuracy: 0.9674\n",
      "Epoch 47/100\n",
      "180/180 [==============================] - 1921s 11s/step - loss: 0.1050 - accuracy: 0.9687\n",
      "Epoch 48/100\n",
      "180/180 [==============================] - 1903s 11s/step - loss: 0.0959 - accuracy: 0.9712\n",
      "Epoch 49/100\n",
      "180/180 [==============================] - 1953s 11s/step - loss: 0.0859 - accuracy: 0.9744\n",
      "Epoch 50/100\n",
      "180/180 [==============================] - 1988s 11s/step - loss: 0.0886 - accuracy: 0.9752\n",
      "Epoch 51/100\n",
      "180/180 [==============================] - 1994s 11s/step - loss: 0.0939 - accuracy: 0.9732\n",
      "Epoch 52/100\n",
      "180/180 [==============================] - 1995s 11s/step - loss: 0.0912 - accuracy: 0.9740\n",
      "Epoch 53/100\n",
      "180/180 [==============================] - 1997s 11s/step - loss: 0.0974 - accuracy: 0.9727\n",
      "Epoch 54/100\n",
      "180/180 [==============================] - 2006s 11s/step - loss: 0.0919 - accuracy: 0.9727\n",
      "Epoch 55/100\n",
      "180/180 [==============================] - 2001s 11s/step - loss: 0.0864 - accuracy: 0.9764\n",
      "Epoch 56/100\n",
      "180/180 [==============================] - 1991s 11s/step - loss: 0.0754 - accuracy: 0.9765\n",
      "Epoch 57/100\n",
      "180/180 [==============================] - 2005s 11s/step - loss: 0.0690 - accuracy: 0.9816\n",
      "Epoch 58/100\n",
      "180/180 [==============================] - 1994s 11s/step - loss: 0.0630 - accuracy: 0.9814\n",
      "Epoch 59/100\n",
      "180/180 [==============================] - 1998s 11s/step - loss: 0.0794 - accuracy: 0.9775\n",
      "Epoch 60/100\n",
      "180/180 [==============================] - 1984s 11s/step - loss: 0.0904 - accuracy: 0.9750\n",
      "Epoch 61/100\n",
      "180/180 [==============================] - 1982s 11s/step - loss: 0.0674 - accuracy: 0.9806\n",
      "Epoch 62/100\n",
      "180/180 [==============================] - 1977s 11s/step - loss: 0.0758 - accuracy: 0.9781\n",
      "Epoch 63/100\n",
      "180/180 [==============================] - 1946s 11s/step - loss: 0.0693 - accuracy: 0.9810\n",
      "Epoch 64/100\n",
      "180/180 [==============================] - 1984s 11s/step - loss: 0.0868 - accuracy: 0.9753\n",
      "Epoch 65/100\n",
      "180/180 [==============================] - 1799s 10s/step - loss: 0.0810 - accuracy: 0.9786\n",
      "Epoch 66/100\n",
      "180/180 [==============================] - 1790s 10s/step - loss: 0.0621 - accuracy: 0.9828\n",
      "Epoch 67/100\n",
      "180/180 [==============================] - 2044s 11s/step - loss: 0.0538 - accuracy: 0.9843\n",
      "Epoch 68/100\n",
      "180/180 [==============================] - 1985s 11s/step - loss: 0.0546 - accuracy: 0.9843\n",
      "Epoch 69/100\n",
      "180/180 [==============================] - 1991s 11s/step - loss: 0.0680 - accuracy: 0.9822\n",
      "Epoch 70/100\n",
      "180/180 [==============================] - 1970s 11s/step - loss: 0.0574 - accuracy: 0.9843\n",
      "Epoch 71/100\n",
      "180/180 [==============================] - 2021s 11s/step - loss: 0.0515 - accuracy: 0.9841\n",
      "Epoch 72/100\n",
      "180/180 [==============================] - 2046s 11s/step - loss: 0.0472 - accuracy: 0.9865\n",
      "Epoch 73/100\n",
      "180/180 [==============================] - 1996s 11s/step - loss: 0.0496 - accuracy: 0.9847\n",
      "Epoch 74/100\n",
      "180/180 [==============================] - 2020s 11s/step - loss: 0.0654 - accuracy: 0.9831\n",
      "Epoch 75/100\n",
      "180/180 [==============================] - 2053s 11s/step - loss: 0.0536 - accuracy: 0.9860\n",
      "Epoch 76/100\n",
      "180/180 [==============================] - 2047s 11s/step - loss: 0.0482 - accuracy: 0.9854\n",
      "Epoch 77/100\n",
      "180/180 [==============================] - 2046s 11s/step - loss: 0.0566 - accuracy: 0.9855\n",
      "Epoch 78/100\n",
      "180/180 [==============================] - 2130s 12s/step - loss: 0.0756 - accuracy: 0.9799\n",
      "Epoch 79/100\n",
      "180/180 [==============================] - 2033s 11s/step - loss: 0.0704 - accuracy: 0.9805\n",
      "Epoch 80/100\n",
      "180/180 [==============================] - 2088s 12s/step - loss: 0.0761 - accuracy: 0.9797\n",
      "Epoch 81/100\n",
      "180/180 [==============================] - 2024s 11s/step - loss: 0.0554 - accuracy: 0.9856\n",
      "Epoch 82/100\n",
      "180/180 [==============================] - 2020s 11s/step - loss: 0.0499 - accuracy: 0.9869\n",
      "Epoch 83/100\n",
      "180/180 [==============================] - 2012s 11s/step - loss: 0.0537 - accuracy: 0.9859\n",
      "Epoch 84/100\n",
      "180/180 [==============================] - 1994s 11s/step - loss: 0.0394 - accuracy: 0.9884\n",
      "Epoch 85/100\n",
      "180/180 [==============================] - 1950s 11s/step - loss: 0.0359 - accuracy: 0.9898\n",
      "Epoch 86/100\n",
      "180/180 [==============================] - 1952s 11s/step - loss: 0.0388 - accuracy: 0.9887\n",
      "Epoch 87/100\n",
      "180/180 [==============================] - 1922s 11s/step - loss: 0.0258 - accuracy: 0.9917\n",
      "Epoch 88/100\n",
      "180/180 [==============================] - 1902s 11s/step - loss: 0.0399 - accuracy: 0.9893\n",
      "Epoch 89/100\n",
      "180/180 [==============================] - 1902s 11s/step - loss: 0.0477 - accuracy: 0.9877\n",
      "Epoch 90/100\n",
      "180/180 [==============================] - 1941s 11s/step - loss: 0.0412 - accuracy: 0.9875\n",
      "Epoch 91/100\n",
      "180/180 [==============================] - 1972s 11s/step - loss: 0.0743 - accuracy: 0.9798\n",
      "Epoch 92/100\n",
      "180/180 [==============================] - 1974s 11s/step - loss: 0.0559 - accuracy: 0.9846\n",
      "Epoch 93/100\n",
      "180/180 [==============================] - 1986s 11s/step - loss: 0.0676 - accuracy: 0.9815\n",
      "Epoch 94/100\n",
      "180/180 [==============================] - 1971s 11s/step - loss: 0.0621 - accuracy: 0.9841\n",
      "Epoch 95/100\n",
      "180/180 [==============================] - 1987s 11s/step - loss: 0.0593 - accuracy: 0.9849\n",
      "Epoch 96/100\n",
      "180/180 [==============================] - 1978s 11s/step - loss: 0.0503 - accuracy: 0.9868\n",
      "Epoch 97/100\n",
      "180/180 [==============================] - 1978s 11s/step - loss: 0.0395 - accuracy: 0.9889\n",
      "Epoch 98/100\n",
      "180/180 [==============================] - 1990s 11s/step - loss: 0.0287 - accuracy: 0.9923\n",
      "Epoch 99/100\n",
      "180/180 [==============================] - 1984s 11s/step - loss: 0.0201 - accuracy: 0.9930\n",
      "Epoch 100/100\n",
      "180/180 [==============================] - 1962s 11s/step - loss: 0.0311 - accuracy: 0.9914\n"
     ]
    }
   ],
   "source": [
    "# Calculate the number of training and validation batches\n",
    "train_size = int(0.8 * tf.data.experimental.cardinality(train_ds).numpy())\n",
    "val_size = tf.data.experimental.cardinality(train_ds).numpy() - train_size\n",
    "\n",
    "# Split the dataset\n",
    "train_ds = train_ds.take(train_size)\n",
    "val_ds = train_ds.skip(train_size)\n",
    "\n",
    "\n",
    "history = conv_model.fit(train_ds, epochs=100, validation_data=val_ds)"
   ]
  },
  {
   "cell_type": "code",
   "execution_count": 10,
   "metadata": {
    "colab": {
     "base_uri": "https://localhost:8080/",
     "height": 364
    },
    "id": "NukaI5Rgx_FV",
    "outputId": "bf94c99e-a274-4289-9258-f09928aace09"
   },
   "outputs": [
    {
     "data": {
      "text/plain": [
       "[Text(0.5, 0, 'Epoch'), Text(0, 0.5, 'Accuracy')]"
      ]
     },
     "execution_count": 10,
     "metadata": {},
     "output_type": "execute_result"
    },
    {
     "data": {
      "image/png": "[encoded data removed]",
      "text/plain": [
       "<Figure size 800x800 with 1 Axes>"
      ]
     },
     "metadata": {},
     "output_type": "display_data"
    },
    {
     "data": {
      "image/png": "[encoded data removed]",
      "text/plain": [
       "<Figure size 800x800 with 1 Axes>"
      ]
     },
     "metadata": {},
     "output_type": "display_data"
    }
   ],
   "source": [
    "# The history.history[\"loss\"] entry is a dictionary with as many values as epochs that the\n",
    "# model was trained on.\n",
    "df_loss_acc = pd.DataFrame(history.history)\n",
    "df_loss= df_loss_acc[['loss',]]\n",
    "df_acc= df_loss_acc[['accuracy']]\n",
    "df_loss.plot(title='Model loss',figsize=(8,8)).set(xlabel='Epoch',ylabel='Loss')\n",
    "df_acc.plot(title='Model Accuracy',figsize=(8,8)).set(xlabel='Epoch',ylabel='Accuracy')"
   ]
  },
  {
   "cell_type": "code",
   "execution_count": 116,
   "metadata": {
    "id": "xYKLunX9ptD0"
   },
   "outputs": [],
   "source": [
    "conv_model.save(\"emotion_detection_model.h5\")"
   ]
  },
  {
   "cell_type": "code",
   "execution_count": 119,
   "metadata": {},
   "outputs": [
    {
     "name": "stderr",
     "output_type": "stream",
     "text": [
      "2025-07-07 19:24:33.539231: I tensorflow/core/common_runtime/executor.cc:1197] [/device:CPU:0] (DEBUG INFO) Executor start aborting (this does not indicate an error and you can ignore this message): INVALID_ARGUMENT: You must feed a value for placeholder tensor 'Placeholder/_4' with dtype int32 and shape [7178]\n",
      "\t [[{{node Placeholder/_4}}]]\n",
      "2025-07-07 19:24:33.540135: I tensorflow/core/common_runtime/executor.cc:1197] [/device:CPU:0] (DEBUG INFO) Executor start aborting (this does not indicate an error and you can ignore this message): INVALID_ARGUMENT: You must feed a value for placeholder tensor 'Placeholder/_4' with dtype int32 and shape [7178]\n",
      "\t [[{{node Placeholder/_4}}]]\n"
     ]
    },
    {
     "name": "stdout",
     "output_type": "stream",
     "text": [
      "57/57 [==============================] - 251s 4s/step - loss: 4.6824 - accuracy: 0.5143\n"
     ]
    }
   ],
   "source": [
    "test_result = conv_model.evaluate(test_ds)"
   ]
  },
  {
   "cell_type": "code",
   "execution_count": 120,
   "metadata": {},
   "outputs": [
    {
     "data": {
      "text/plain": [
       "[4.682387351989746, 0.5143494009971619]"
      ]
     },
     "execution_count": 120,
     "metadata": {},
     "output_type": "execute_result"
    }
   ],
   "source": [
    "test_result"
   ]
  },
  {
   "cell_type": "code",
   "execution_count": null,
   "metadata": {},
   "outputs": [],
   "source": []
  },
  {
   "cell_type": "code",
   "execution_count": null,
   "metadata": {},
   "outputs": [],
   "source": []
  },
  {
   "cell_type": "code",
   "execution_count": null,
   "metadata": {},
   "outputs": [],
   "source": []
  },
  {
   "cell_type": "code",
   "execution_count": null,
   "metadata": {},
   "outputs": [],
   "source": []
  },
  {
   "cell_type": "code",
   "execution_count": null,
   "metadata": {},
   "outputs": [],
   "source": []
  },
  {
   "cell_type": "code",
   "execution_count": 13,
   "metadata": {},
   "outputs": [],
   "source": [
    "from PIL import Image"
   ]
  },
  {
   "cell_type": "code",
   "execution_count": 45,
   "metadata": {},
   "outputs": [],
   "source": []
  },
  {
   "cell_type": "code",
   "execution_count": 90,
   "metadata": {},
   "outputs": [],
   "source": [
    "CLASS_NAMES = ['Angry', 'Disgusted', 'Fearful', 'Happy', 'Neutral', 'Sad', 'Surprised']"
   ]
  },
  {
   "cell_type": "code",
   "execution_count": 91,
   "metadata": {},
   "outputs": [],
   "source": [
    "# Image preprocessing\n",
    "def preprocess_image(image, target_size=(128, 128)):\n",
    "    image = image.convert('RGB')  # make sure 3 channels\n",
    "    image = image.resize(target_size)\n",
    "    image = np.array(image) / 255.0  # normalize\n",
    "    image = np.expand_dims(image, axis=0)  # add batch dimension\n",
    "    return image"
   ]
  },
  {
   "cell_type": "code",
   "execution_count": 110,
   "metadata": {},
   "outputs": [
    {
     "data": {
      "image/jpeg": "[encoded data removed]",
      "image/png": "[encoded data removed]",
      "text/plain": [
       "<PIL.PngImagePlugin.PngImageFile image mode=L size=48x48>"
      ]
     },
     "execution_count": 110,
     "metadata": {},
     "output_type": "execute_result"
    }
   ],
   "source": [
    "image_path =\"/home/developer/Coding/Kaggle/Emotion_detection/dataset/train/sad/im142.png\"\n",
    "image = Image.open(image_path)\n",
    "image"
   ]
  },
  {
   "cell_type": "code",
   "execution_count": 111,
   "metadata": {},
   "outputs": [
    {
     "name": "stdout",
     "output_type": "stream",
     "text": [
      "1/1 [==============================] - 0s 82ms/step\n",
      "Angry 0.0035093015\n",
      "Disgusted 0.007242151\n",
      "Fearful 0.07212063\n",
      "Happy 7.1178736e-05\n",
      "Neutral 1.7675346e-05\n",
      "Sad 0.9999972\n",
      "Surprised 0.015478464\n"
     ]
    }
   ],
   "source": [
    "processed_image = preprocess_image(image)\n",
    "\n",
    "predictions = conv_model.predict(processed_image)[0]\n",
    "\n",
    "predicted_class = CLASS_NAMES[np.argmax(predictions)]\n",
    "confidence = np.max(predictions)\n",
    "\n",
    "for label, prob in zip(CLASS_NAMES, predictions):\n",
    "    print(label,prob)"
   ]
  },
  {
   "cell_type": "code",
   "execution_count": 112,
   "metadata": {},
   "outputs": [
    {
     "data": {
      "text/plain": [
       "array([3.5093015e-03, 7.2421511e-03, 7.2120629e-02, 7.1178736e-05,\n",
       "       1.7675346e-05, 9.9999720e-01, 1.5478464e-02], dtype=float32)"
      ]
     },
     "execution_count": 112,
     "metadata": {},
     "output_type": "execute_result"
    }
   ],
   "source": [
    "predictions"
   ]
  },
  {
   "cell_type": "code",
   "execution_count": 113,
   "metadata": {},
   "outputs": [
    {
     "data": {
      "text/plain": [
       "5"
      ]
     },
     "execution_count": 113,
     "metadata": {},
     "output_type": "execute_result"
    }
   ],
   "source": [
    "np.argmax(predictions)"
   ]
  },
  {
   "cell_type": "code",
   "execution_count": 114,
   "metadata": {},
   "outputs": [
    {
     "data": {
      "text/plain": [
       "'Sad'"
      ]
     },
     "execution_count": 114,
     "metadata": {},
     "output_type": "execute_result"
    }
   ],
   "source": [
    "CLASS_NAMES[np.argmax(predictions)]"
   ]
  },
  {
   "cell_type": "code",
   "execution_count": 115,
   "metadata": {},
   "outputs": [
    {
     "data": {
      "text/plain": [
       "0.9999972"
      ]
     },
     "execution_count": 115,
     "metadata": {},
     "output_type": "execute_result"
    }
   ],
   "source": [
    "np.max(predictions)"
   ]
  },
  {
   "cell_type": "code",
   "execution_count": null,
   "metadata": {},
   "outputs": [],
   "source": []
  },
  {
   "cell_type": "code",
   "execution_count": null,
   "metadata": {},
   "outputs": [],
   "source": []
  }
 ],
 "metadata": {
  "colab": {
   "provenance": []
  },
  "kernelspec": {
   "display_name": "Python 3 (ipykernel)",
   "language": "python",
   "name": "python3"
  },
  "language_info": {
   "codemirror_mode": {
    "name": "ipython",
    "version": 3
   },
   "file_extension": ".py",
   "mimetype": "text/x-python",
   "name": "python",
   "nbconvert_exporter": "python",
   "pygments_lexer": "ipython3",
   "version": "3.8.18"
  }
 },
 "nbformat": 4,
 "nbformat_minor": 4
}
