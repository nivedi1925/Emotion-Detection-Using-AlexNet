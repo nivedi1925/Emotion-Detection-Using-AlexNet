{
 "cells": [
  {
   "cell_type": "code",
   "execution_count": 1,
   "id": "1d6027b5-2fb1-471c-b2c1-edb841dc314a",
   "metadata": {},
   "outputs": [
    {
     "name": "stderr",
     "output_type": "stream",
     "text": [
      "2025-07-07 11:04:17.558143: I tensorflow/core/platform/cpu_feature_guard.cc:182] This TensorFlow binary is optimized to use available CPU instructions in performance-critical operations.\n",
      "To enable the following instructions: SSE4.1 SSE4.2 AVX AVX2 FMA, in other operations, rebuild TensorFlow with the appropriate compiler flags.\n",
      "2025-07-07 11:04:19.351 WARNING streamlit.runtime.scriptrunner_utils.script_run_context: Thread 'MainThread': missing ScriptRunContext! This warning can be ignored when running in bare mode.\n",
      "2025-07-07 11:04:19.638 \n",
      "  \u001b[33m\u001b[1mWarning:\u001b[0m to view this Streamlit app on a browser, run it with the following\n",
      "  command:\n",
      "\n",
      "    streamlit run /home/developer/anaconda3/envs/Tensorflow/lib/python3.8/site-packages/ipykernel_launcher.py [ARGUMENTS]\n",
      "2025-07-07 11:04:19.639 Thread 'MainThread': missing ScriptRunContext! This warning can be ignored when running in bare mode.\n",
      "2025-07-07 11:04:19.639 Thread 'MainThread': missing ScriptRunContext! This warning can be ignored when running in bare mode.\n",
      "2025-07-07 11:04:19.653859: I tensorflow/core/common_runtime/process_util.cc:146] Creating new thread pool with default inter op setting: 2. Tune using inter_op_parallelism_threads for best performance.\n",
      "2025-07-07 11:04:20.142 Thread 'Thread-5': missing ScriptRunContext! This warning can be ignored when running in bare mode.\n",
      "2025-07-07 11:04:20.151 Thread 'Thread-5': missing ScriptRunContext! This warning can be ignored when running in bare mode.\n",
      "2025-07-07 11:04:22.386 Thread 'MainThread': missing ScriptRunContext! This warning can be ignored when running in bare mode.\n",
      "2025-07-07 11:04:22.387 Thread 'MainThread': missing ScriptRunContext! This warning can be ignored when running in bare mode.\n",
      "2025-07-07 11:04:22.388 Thread 'MainThread': missing ScriptRunContext! This warning can be ignored when running in bare mode.\n",
      "2025-07-07 11:04:22.389 Thread 'MainThread': missing ScriptRunContext! This warning can be ignored when running in bare mode.\n",
      "2025-07-07 11:04:22.390 Thread 'MainThread': missing ScriptRunContext! This warning can be ignored when running in bare mode.\n",
      "2025-07-07 11:04:22.391 Thread 'MainThread': missing ScriptRunContext! This warning can be ignored when running in bare mode.\n",
      "2025-07-07 11:04:22.392 Thread 'MainThread': missing ScriptRunContext! This warning can be ignored when running in bare mode.\n",
      "2025-07-07 11:04:22.394 Thread 'MainThread': missing ScriptRunContext! This warning can be ignored when running in bare mode.\n"
     ]
    }
   ],
   "source": [
    "import streamlit as st\n",
    "import numpy as np\n",
    "from PIL import Image\n",
    "import tensorflow as tf\n",
    "\n",
    "# Load model once and cache it\n",
    "@st.cache_resource\n",
    "def load_model():\n",
    "    return tf.keras.models.load_model(\"/home/developer/Coding/Kaggle/Emotion_detection/emotion_detection_model.h5\")\n",
    "\n",
    "model = load_model()\n",
    "\n",
    "\n",
    "CLASS_NAMES = ['Angry', 'Disgusted', 'Fearful', 'Happy', 'Neutral', 'Sad', 'Surprised']\n",
    "\n",
    "# Image preprocessing\n",
    "def preprocess_image(image, target_size=(128, 128)):\n",
    "    image = image.convert('RGB')  # make sure 3 channels\n",
    "    image = image.resize(target_size)\n",
    "    image = np.array(image) / 255.0  # normalize\n",
    "    image = np.expand_dims(image, axis=0)  # add batch dimension\n",
    "    return image\n",
    "\n",
    "# Streamlit app\n",
    "st.title(\"Emotion Detection with AlexNet 😃😠😢😲\")\n",
    "\n",
    "uploaded_file = st.file_uploader(\"Upload a face image\", type=[\"jpg\", \"jpeg\", \"png\"])\n",
    "\n",
    "if uploaded_file is not None:\n",
    "    image = Image.open(uploaded_file)\n",
    "    st.image(image, caption=\"Uploaded Image\", use_column_width=True, width=400)\n",
    "\n",
    "    st.write(\"Detecting emotion...\")\n",
    "    processed_image = preprocess_image(image)\n",
    "    predictions = model.predict(processed_image)[0]\n",
    "\n",
    "    predicted_class = CLASS_NAMES[np.argmax(predictions)]\n",
    "    confidence = np.max(predictions)\n",
    "\n",
    "    st.success(f\"Predicted Emotion: **{predicted_class}** ({confidence:.2f} confidence)\")\n",
    "\n",
    "    # Optional: show confidence for all classes\n",
    "    st.subheader(\"Confidence Scores:\")\n",
    "    for label, prob in zip(CLASS_NAMES, predictions):\n",
    "        st.write(f\"{label}: {prob:.2f}\")\n"
   ]
  },
  {
   "cell_type": "code",
   "execution_count": null,
   "id": "f687b26d-c620-4408-b34e-dad15e18b83c",
   "metadata": {},
   "outputs": [],
   "source": []
  }
 ],
 "metadata": {
  "kernelspec": {
   "display_name": "Python 3 (ipykernel)",
   "language": "python",
   "name": "python3"
  },
  "language_info": {
   "codemirror_mode": {
    "name": "ipython",
    "version": 3
   },
   "file_extension": ".py",
   "mimetype": "text/x-python",
   "name": "python",
   "nbconvert_exporter": "python",
   "pygments_lexer": "ipython3",
   "version": "3.8.18"
  }
 },
 "nbformat": 4,
 "nbformat_minor": 5
}
